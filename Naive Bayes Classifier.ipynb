{
 "cells": [
  {
   "cell_type": "markdown",
   "metadata": {},
   "source": [
    "## The following 4 cells include function definitions needed for tweet preprocessing"
   ]
  },
  {
   "cell_type": "code",
   "execution_count": 1,
   "metadata": {
    "collapsed": true
   },
   "outputs": [],
   "source": [
    "import re\n",
    "#start process_tweet\n",
    "def processTweet(tweet):\n",
    "    # process the tweets\n",
    "    \n",
    "    #Convert to lower case\n",
    "    tweet = tweet.lower()\n",
    "    #Convert www.* or https?://* to URL\n",
    "    tweet = re.sub('((www\\.[^\\s]+)|(https?://[^\\s]+))','URL',tweet)\n",
    "    #Convert @username to AT_USER\n",
    "    tweet = re.sub('@[^\\s]+','AT_USER',tweet)    \n",
    "    #Remove additional white spaces\n",
    "    tweet = re.sub('[\\s]+', ' ', tweet)\n",
    "    #Replace #word with word\n",
    "    tweet = re.sub(r'#([^\\s]+)', r'\\1', tweet)\n",
    "    #trim\n",
    "    tweet = tweet.strip('\\'\"')\n",
    "    return tweet\n",
    "\n",
    "#end "
   ]
  },
  {
   "cell_type": "code",
   "execution_count": 2,
   "metadata": {
    "collapsed": true
   },
   "outputs": [],
   "source": [
    "#start getStopWordList\n",
    "def getStopWordList(stopWordListFileName):\n",
    "    #read the stopwords\n",
    "    stopWords = []\n",
    "    stopWords.append('AT_USER')\n",
    "    stopWords.append('URL')\n",
    "\n",
    "    fp = open(stopWordListFileName, 'r')\n",
    "    line = fp.readline()\n",
    "    while line:\n",
    "        word = line.strip()\n",
    "        stopWords.append(word)\n",
    "        line = fp.readline()\n",
    "    fp.close()\n",
    "    return stopWords\n",
    "#end"
   ]
  },
  {
   "cell_type": "code",
   "execution_count": 3,
   "metadata": {
    "collapsed": true
   },
   "outputs": [],
   "source": [
    "#start replaceTwoOrMore\n",
    "def replaceTwoOrMore(s):\n",
    "    #look for 2 or more repetitions of character\n",
    "    pattern = re.compile(r\"(.)\\1{1,}\", re.DOTALL) \n",
    "    return pattern.sub(r\"\\1\\1\", s)\n",
    "#end"
   ]
  },
  {
   "cell_type": "code",
   "execution_count": 4,
   "metadata": {
    "collapsed": true
   },
   "outputs": [],
   "source": [
    "def getFeatureVector(tweet, stopWords):\n",
    "    featureVector = []  \n",
    "    words = tweet.split()\n",
    "    for w in words:\n",
    "        #replace two or more with two occurrences \n",
    "        w = replaceTwoOrMore(w) \n",
    "        #strip punctuation\n",
    "        w = w.strip('\\'\"?,.')\n",
    "        #check if it consists of only words\n",
    "        val = re.search(r\"^[a-zA-Z][a-zA-Z0-9]*[a-zA-Z]+[a-zA-Z0-9]*$\", w)\n",
    "        #ignore if it is a stopWord\n",
    "        if(w in stopWords or val is None):\n",
    "            continue\n",
    "        else:\n",
    "            featureVector.append(w.lower())\n",
    "    return featureVector    \n",
    "\n",
    "\n",
    "#end"
   ]
  },
  {
   "cell_type": "markdown",
   "metadata": {},
   "source": [
    "## We're importing a labeled dataset to train the classifier."
   ]
  },
  {
   "cell_type": "code",
   "execution_count": 5,
   "metadata": {
    "collapsed": false
   },
   "outputs": [],
   "source": [
    "import pandas as pd\n",
    "import numpy as np\n",
    "\n",
    "# This piece of the code imports a labeled dataset to be used to train the classifier. \n",
    "\n",
    "filepath = '/Users/ausubo/karma/insight/project/twitter/sentiment_topics_twitter/data/debate08_sentiment_tweets.csv'\n",
    "debate_tweets = pd.read_csv(filepath)\n",
    "#Eliminating tweets classified as neutral or irrelevant.\n",
    "\n",
    "debate_tweets = debate_tweets[debate_tweets['rating.1'] != 4]\n",
    "debate_tweets = debate_tweets[debate_tweets['rating.1'] != 3]\n",
    "\n",
    "training_tweets = debate_tweets"
   ]
  },
  {
   "cell_type": "code",
   "execution_count": 6,
   "metadata": {
    "collapsed": false
   },
   "outputs": [
    {
     "data": {
      "text/html": [
       "<div>\n",
       "<table border=\"1\" class=\"dataframe\">\n",
       "  <thead>\n",
       "    <tr style=\"text-align: right;\">\n",
       "      <th></th>\n",
       "      <th>tweet.id</th>\n",
       "      <th>pub.date.GMT</th>\n",
       "      <th>content</th>\n",
       "      <th>author.name</th>\n",
       "      <th>author.nickname</th>\n",
       "      <th>rating.1</th>\n",
       "      <th>rating.2</th>\n",
       "      <th>rating.3</th>\n",
       "      <th>rating.4</th>\n",
       "      <th>rating.5</th>\n",
       "      <th>rating.6</th>\n",
       "      <th>rating.7</th>\n",
       "      <th>rating.8</th>\n",
       "    </tr>\n",
       "  </thead>\n",
       "  <tbody>\n",
       "    <tr>\n",
       "      <th>0</th>\n",
       "      <td>936469851</td>\n",
       "      <td>9/27/08 1:01</td>\n",
       "      <td>Watching by myself  #tweetdebate Not drinking ...</td>\n",
       "      <td>drgilpin</td>\n",
       "      <td>Dawn Gilpin</td>\n",
       "      <td>1</td>\n",
       "      <td>1</td>\n",
       "      <td>4</td>\n",
       "      <td>NaN</td>\n",
       "      <td>NaN</td>\n",
       "      <td>NaN</td>\n",
       "      <td>NaN</td>\n",
       "      <td>NaN</td>\n",
       "    </tr>\n",
       "    <tr>\n",
       "      <th>1</th>\n",
       "      <td>936470432</td>\n",
       "      <td>9/27/08 1:02</td>\n",
       "      <td>@ahg3 @MichDot Yeah, slime was actually my sec...</td>\n",
       "      <td>starweaver</td>\n",
       "      <td>NaN</td>\n",
       "      <td>1</td>\n",
       "      <td>1</td>\n",
       "      <td>1</td>\n",
       "      <td>NaN</td>\n",
       "      <td>NaN</td>\n",
       "      <td>NaN</td>\n",
       "      <td>NaN</td>\n",
       "      <td>NaN</td>\n",
       "    </tr>\n",
       "    <tr>\n",
       "      <th>2</th>\n",
       "      <td>936472030</td>\n",
       "      <td>9/27/08 1:03</td>\n",
       "      <td>Preparing to have a heart attack #tweetdebate</td>\n",
       "      <td>kyeung808</td>\n",
       "      <td>Ken Yeung</td>\n",
       "      <td>1</td>\n",
       "      <td>1</td>\n",
       "      <td>1</td>\n",
       "      <td>1.0</td>\n",
       "      <td>NaN</td>\n",
       "      <td>NaN</td>\n",
       "      <td>NaN</td>\n",
       "      <td>NaN</td>\n",
       "    </tr>\n",
       "    <tr>\n",
       "      <th>3</th>\n",
       "      <td>936472042</td>\n",
       "      <td>9/27/08 1:03</td>\n",
       "      <td>no debate moderators under 50, sorry  #tweetde...</td>\n",
       "      <td>rebot</td>\n",
       "      <td>NaN</td>\n",
       "      <td>1</td>\n",
       "      <td>1</td>\n",
       "      <td>4</td>\n",
       "      <td>1.0</td>\n",
       "      <td>NaN</td>\n",
       "      <td>NaN</td>\n",
       "      <td>NaN</td>\n",
       "      <td>NaN</td>\n",
       "    </tr>\n",
       "    <tr>\n",
       "      <th>4</th>\n",
       "      <td>936472907</td>\n",
       "      <td>9/27/08 1:03</td>\n",
       "      <td>@current Now staring at black screen on http:/...</td>\n",
       "      <td>Karoli</td>\n",
       "      <td>Karoli</td>\n",
       "      <td>1</td>\n",
       "      <td>4</td>\n",
       "      <td>1</td>\n",
       "      <td>NaN</td>\n",
       "      <td>NaN</td>\n",
       "      <td>NaN</td>\n",
       "      <td>NaN</td>\n",
       "      <td>NaN</td>\n",
       "    </tr>\n",
       "  </tbody>\n",
       "</table>\n",
       "</div>"
      ],
      "text/plain": [
       "    tweet.id  pub.date.GMT                                            content  \\\n",
       "0  936469851  9/27/08 1:01  Watching by myself  #tweetdebate Not drinking ...   \n",
       "1  936470432  9/27/08 1:02  @ahg3 @MichDot Yeah, slime was actually my sec...   \n",
       "2  936472030  9/27/08 1:03      Preparing to have a heart attack #tweetdebate   \n",
       "3  936472042  9/27/08 1:03  no debate moderators under 50, sorry  #tweetde...   \n",
       "4  936472907  9/27/08 1:03  @current Now staring at black screen on http:/...   \n",
       "\n",
       "  author.name author.nickname  rating.1  rating.2  rating.3  rating.4  \\\n",
       "0    drgilpin     Dawn Gilpin         1         1         4       NaN   \n",
       "1  starweaver             NaN         1         1         1       NaN   \n",
       "2   kyeung808       Ken Yeung         1         1         1       1.0   \n",
       "3       rebot             NaN         1         1         4       1.0   \n",
       "4      Karoli          Karoli         1         4         1       NaN   \n",
       "\n",
       "   rating.5  rating.6  rating.7  rating.8  \n",
       "0       NaN       NaN       NaN       NaN  \n",
       "1       NaN       NaN       NaN       NaN  \n",
       "2       NaN       NaN       NaN       NaN  \n",
       "3       NaN       NaN       NaN       NaN  \n",
       "4       NaN       NaN       NaN       NaN  "
      ]
     },
     "execution_count": 6,
     "metadata": {},
     "output_type": "execute_result"
    }
   ],
   "source": [
    "training_tweets.head()"
   ]
  },
  {
   "cell_type": "code",
   "execution_count": 7,
   "metadata": {
    "collapsed": false
   },
   "outputs": [
    {
     "data": {
      "text/plain": [
       "2208"
      ]
     },
     "execution_count": 7,
     "metadata": {},
     "output_type": "execute_result"
    }
   ],
   "source": [
    "len(training_tweets)"
   ]
  },
  {
   "cell_type": "code",
   "execution_count": 8,
   "metadata": {
    "collapsed": false
   },
   "outputs": [
    {
     "data": {
      "text/html": [
       "<div>\n",
       "<table border=\"1\" class=\"dataframe\">\n",
       "  <thead>\n",
       "    <tr style=\"text-align: right;\">\n",
       "      <th></th>\n",
       "      <th>tweet.id</th>\n",
       "      <th>pub.date.GMT</th>\n",
       "      <th>content</th>\n",
       "      <th>author.name</th>\n",
       "      <th>author.nickname</th>\n",
       "      <th>rating.1</th>\n",
       "      <th>rating.2</th>\n",
       "      <th>rating.3</th>\n",
       "      <th>rating.4</th>\n",
       "      <th>rating.5</th>\n",
       "      <th>rating.6</th>\n",
       "      <th>rating.7</th>\n",
       "      <th>rating.8</th>\n",
       "    </tr>\n",
       "  </thead>\n",
       "  <tbody>\n",
       "    <tr>\n",
       "      <th>0</th>\n",
       "      <td>936469851</td>\n",
       "      <td>9/27/08 1:01</td>\n",
       "      <td>Watching by myself  #tweetdebate Not drinking ...</td>\n",
       "      <td>drgilpin</td>\n",
       "      <td>Dawn Gilpin</td>\n",
       "      <td>1</td>\n",
       "      <td>1</td>\n",
       "      <td>4</td>\n",
       "      <td>NaN</td>\n",
       "      <td>NaN</td>\n",
       "      <td>NaN</td>\n",
       "      <td>NaN</td>\n",
       "      <td>NaN</td>\n",
       "    </tr>\n",
       "    <tr>\n",
       "      <th>1</th>\n",
       "      <td>936470432</td>\n",
       "      <td>9/27/08 1:02</td>\n",
       "      <td>@ahg3 @MichDot Yeah, slime was actually my sec...</td>\n",
       "      <td>starweaver</td>\n",
       "      <td>NaN</td>\n",
       "      <td>1</td>\n",
       "      <td>1</td>\n",
       "      <td>1</td>\n",
       "      <td>NaN</td>\n",
       "      <td>NaN</td>\n",
       "      <td>NaN</td>\n",
       "      <td>NaN</td>\n",
       "      <td>NaN</td>\n",
       "    </tr>\n",
       "    <tr>\n",
       "      <th>2</th>\n",
       "      <td>936472030</td>\n",
       "      <td>9/27/08 1:03</td>\n",
       "      <td>Preparing to have a heart attack #tweetdebate</td>\n",
       "      <td>kyeung808</td>\n",
       "      <td>Ken Yeung</td>\n",
       "      <td>1</td>\n",
       "      <td>1</td>\n",
       "      <td>1</td>\n",
       "      <td>1.0</td>\n",
       "      <td>NaN</td>\n",
       "      <td>NaN</td>\n",
       "      <td>NaN</td>\n",
       "      <td>NaN</td>\n",
       "    </tr>\n",
       "    <tr>\n",
       "      <th>3</th>\n",
       "      <td>936472042</td>\n",
       "      <td>9/27/08 1:03</td>\n",
       "      <td>no debate moderators under 50, sorry  #tweetde...</td>\n",
       "      <td>rebot</td>\n",
       "      <td>NaN</td>\n",
       "      <td>1</td>\n",
       "      <td>1</td>\n",
       "      <td>4</td>\n",
       "      <td>1.0</td>\n",
       "      <td>NaN</td>\n",
       "      <td>NaN</td>\n",
       "      <td>NaN</td>\n",
       "      <td>NaN</td>\n",
       "    </tr>\n",
       "    <tr>\n",
       "      <th>4</th>\n",
       "      <td>936472907</td>\n",
       "      <td>9/27/08 1:03</td>\n",
       "      <td>@current Now staring at black screen on http:/...</td>\n",
       "      <td>Karoli</td>\n",
       "      <td>Karoli</td>\n",
       "      <td>1</td>\n",
       "      <td>4</td>\n",
       "      <td>1</td>\n",
       "      <td>NaN</td>\n",
       "      <td>NaN</td>\n",
       "      <td>NaN</td>\n",
       "      <td>NaN</td>\n",
       "      <td>NaN</td>\n",
       "    </tr>\n",
       "  </tbody>\n",
       "</table>\n",
       "</div>"
      ],
      "text/plain": [
       "    tweet.id  pub.date.GMT                                            content  \\\n",
       "0  936469851  9/27/08 1:01  Watching by myself  #tweetdebate Not drinking ...   \n",
       "1  936470432  9/27/08 1:02  @ahg3 @MichDot Yeah, slime was actually my sec...   \n",
       "2  936472030  9/27/08 1:03      Preparing to have a heart attack #tweetdebate   \n",
       "3  936472042  9/27/08 1:03  no debate moderators under 50, sorry  #tweetde...   \n",
       "4  936472907  9/27/08 1:03  @current Now staring at black screen on http:/...   \n",
       "\n",
       "  author.name author.nickname  rating.1  rating.2  rating.3  rating.4  \\\n",
       "0    drgilpin     Dawn Gilpin         1         1         4       NaN   \n",
       "1  starweaver             NaN         1         1         1       NaN   \n",
       "2   kyeung808       Ken Yeung         1         1         1       1.0   \n",
       "3       rebot             NaN         1         1         4       1.0   \n",
       "4      Karoli          Karoli         1         4         1       NaN   \n",
       "\n",
       "   rating.5  rating.6  rating.7  rating.8  \n",
       "0       NaN       NaN       NaN       NaN  \n",
       "1       NaN       NaN       NaN       NaN  \n",
       "2       NaN       NaN       NaN       NaN  \n",
       "3       NaN       NaN       NaN       NaN  \n",
       "4       NaN       NaN       NaN       NaN  "
      ]
     },
     "execution_count": 8,
     "metadata": {},
     "output_type": "execute_result"
    }
   ],
   "source": [
    "training_tweets.head()"
   ]
  },
  {
   "cell_type": "markdown",
   "metadata": {},
   "source": [
    "And we're splitting the dataset into 2 pieces to use the labeled data to train & test the classifier model."
   ]
  },
  {
   "cell_type": "code",
   "execution_count": 9,
   "metadata": {
    "collapsed": true
   },
   "outputs": [],
   "source": [
    "msk = np.random.rand(len(training_tweets)) < 0.7\n",
    "train = training_tweets[msk]\n",
    "test = training_tweets[~msk]"
   ]
  },
  {
   "cell_type": "code",
   "execution_count": 10,
   "metadata": {
    "collapsed": false
   },
   "outputs": [
    {
     "name": "stdout",
     "output_type": "stream",
     "text": [
      "Length of labeled dataset used to train the model: 1558\n",
      "\n",
      "Length of the complete labeled dataset: 2208\n"
     ]
    }
   ],
   "source": [
    "from nltk.corpus import stopwords\n",
    "\n",
    "featureList = []\n",
    "tweets = [] \n",
    "\n",
    "stop_words = ['RT']\n",
    "#stopWords = getStopWordList('data/feature_list/stopwords.txt') + stop_words\n",
    "stopWords = list(str(stopwords.words('english'))) + stop_words\n",
    "# check this ^\n",
    "\n",
    "for row in train.itertuples():\n",
    "    sentiment = row[6]\n",
    "    tweet = row[3]\n",
    "    processedTweet = processTweet(tweet)\n",
    "    featureVector = getFeatureVector(processedTweet, stopWords)\n",
    "    featureList.extend(featureVector)\n",
    "    tweets.append((featureVector, sentiment));\n",
    "    \n",
    "#tweets is only the train labeled tweets\n",
    "print 'Length of labeled dataset used to train the model:', len(tweets)\n",
    "print \n",
    "print 'Length of the complete labeled dataset:', len(training_tweets)"
   ]
  },
  {
   "cell_type": "code",
   "execution_count": 11,
   "metadata": {
    "collapsed": false
   },
   "outputs": [],
   "source": [
    "#start extract_features\n",
    "def extract_features(tweet):\n",
    "    tweet_words = set(tweet)\n",
    "    features = {}\n",
    "    for word in featureList:\n",
    "        features['contains(%s)' % word] = (word in tweet_words)\n",
    "    return features\n",
    "#end"
   ]
  },
  {
   "cell_type": "code",
   "execution_count": 12,
   "metadata": {
    "collapsed": false
   },
   "outputs": [
    {
     "data": {
      "text/plain": [
       "19156"
      ]
     },
     "execution_count": 12,
     "metadata": {},
     "output_type": "execute_result"
    }
   ],
   "source": [
    "len(featureList)"
   ]
  },
  {
   "cell_type": "code",
   "execution_count": 13,
   "metadata": {
    "collapsed": false
   },
   "outputs": [
    {
     "data": {
      "text/plain": [
       "3220"
      ]
     },
     "execution_count": 13,
     "metadata": {},
     "output_type": "execute_result"
    }
   ],
   "source": [
    "# Remove featureList duplicates\n",
    "featureList = list(set(featureList))\n",
    "\n",
    "len(featureList)"
   ]
  },
  {
   "cell_type": "markdown",
   "metadata": {},
   "source": [
    "Here is the documentation for nltk.classify.util.apply_features()\n",
    "\n",
    "* http://www.nltk.org/_modules/nltk/classify/util.html#apply_features"
   ]
  },
  {
   "cell_type": "code",
   "execution_count": null,
   "metadata": {
    "collapsed": false
   },
   "outputs": [],
   "source": [
    "import nltk\n",
    "# Generate the training set\n",
    "training_set = nltk.classify.util.apply_features(extract_features, tweets)"
   ]
  },
  {
   "cell_type": "code",
   "execution_count": null,
   "metadata": {
    "collapsed": false
   },
   "outputs": [],
   "source": [
    "# Train the Naive Bayes classifier\n",
    "NBClassifier = nltk.NaiveBayesClassifier.train(training_set)"
   ]
  },
  {
   "cell_type": "code",
   "execution_count": null,
   "metadata": {
    "collapsed": false
   },
   "outputs": [],
   "source": [
    "print NBClassifier.show_most_informative_features(10)"
   ]
  },
  {
   "cell_type": "markdown",
   "metadata": {},
   "source": [
    "## Testing the classifier."
   ]
  },
  {
   "cell_type": "code",
   "execution_count": null,
   "metadata": {
    "collapsed": false
   },
   "outputs": [],
   "source": [
    "# Test the classifier\n",
    "testTweet = 'Hate'\n",
    "processedTestTweet = processTweet(testTweet)\n",
    "sentiment = NBClassifier.classify(extract_features(getFeatureVector(processedTestTweet, stopWords)))\n",
    "print \"testTweet = %s, sentiment = %s\\n\" % (testTweet, sentiment)"
   ]
  },
  {
   "cell_type": "markdown",
   "metadata": {},
   "source": [
    "Now that the classifier has been trained with the \"train\" portion of the labeled data, let's check how it does."
   ]
  },
  {
   "cell_type": "code",
   "execution_count": null,
   "metadata": {
    "collapsed": false
   },
   "outputs": [],
   "source": [
    "count = 0;\n",
    "\n",
    "#featureList_test = []\n",
    "\n",
    "tweets_v_test = [] \n",
    "tweets_test = []\n",
    "\n",
    "for row in test.itertuples():\n",
    "    tweet = row[3]\n",
    "    processedTweet = processTweet(tweet)\n",
    "    sentiment = NBClassifier.classify(extract_features(getFeatureVector(processedTweet, stopWords)))\n",
    "    tweets_v_test.append((tweet, sentiment))\n",
    "\n",
    "for row in test.itertuples():\n",
    "    sentiment = row[6]\n",
    "    tweet = row[3]\n",
    "    tweets_test.append((tweet, sentiment))"
   ]
  },
  {
   "cell_type": "code",
   "execution_count": null,
   "metadata": {
    "collapsed": false
   },
   "outputs": [],
   "source": [
    "df_v = pd.DataFrame(tweets_v_test)\n",
    "\n",
    "df = pd.DataFrame(tweets_test)"
   ]
  },
  {
   "cell_type": "code",
   "execution_count": null,
   "metadata": {
    "collapsed": true
   },
   "outputs": [],
   "source": [
    "def add_classes(df,colname):\n",
    "    classdict = {'positive': 1, 'negative': 0}\n",
    "    classes = [classdict[label] for label in df[colname]]\n",
    "    df['class'] = classes\n",
    "    return df\n",
    "\n",
    "def add_classes2(df, colname):\n",
    "    classdict = { 1: 0, 2: 1}\n",
    "    classes = [classdict[label] for label in df[colname]]\n",
    "    df['class'] = classes\n",
    "    return df"
   ]
  },
  {
   "cell_type": "code",
   "execution_count": null,
   "metadata": {
    "collapsed": false
   },
   "outputs": [],
   "source": [
    "df_v= add_classes2(df_v,1)\n",
    "df = add_classes2(df,1)"
   ]
  },
  {
   "cell_type": "code",
   "execution_count": null,
   "metadata": {
    "collapsed": false
   },
   "outputs": [],
   "source": [
    "import sklearn\n",
    "print 'accuracy score is:', sklearn.metrics.accuracy_score(df['class'], df_v['class'], normalize=True, sample_weight=None)\n",
    "print\n",
    "print 'precision score is:', sklearn.metrics.precision_score(df['class'], df_v['class'])\n",
    "print\n",
    "print 'recall score is:', sklearn.metrics.recall_score(df['class'], df_v['class'])"
   ]
  },
  {
   "cell_type": "code",
   "execution_count": null,
   "metadata": {
    "collapsed": false
   },
   "outputs": [],
   "source": [
    "precision = sklearn.metrics.precision_score(df['class'], df_v['class'])\n",
    "recall = sklearn.metrics.recall_score(df['class'], df_v['class'])\n",
    "\n",
    "F1 = 2 * (precision * recall) / (precision + recall)\n",
    "\n",
    "print F1"
   ]
  },
  {
   "cell_type": "code",
   "execution_count": null,
   "metadata": {
    "collapsed": false
   },
   "outputs": [],
   "source": [
    "import nltk\n",
    "from sklearn import cross_validation\n",
    "from sklearn import metrics \n",
    "#training_set = nltk.classify.apply_features(extract_features, documents)\n",
    "training_set = nltk.classify.util.apply_features(extract_features, tweets)\n",
    "\n",
    "cv = cross_validation.KFold(len(training_set), n_folds=5, shuffle=True, random_state=None)"
   ]
  },
  {
   "cell_type": "code",
   "execution_count": null,
   "metadata": {
    "collapsed": false,
    "scrolled": false
   },
   "outputs": [],
   "source": [
    "accuracy = []\n",
    "for trainidx, testidx in cv:\n",
    "    traincurr = [training_set[idx] for idx in trainidx]\n",
    "    testcurr = [training_set[idx] for idx in testidx]\n",
    "    classifier = nltk.NaiveBayesClassifier.train(traincurr)\n",
    "    print 'accuracy:', nltk.classify.util.accuracy(classifier, testcurr)\n",
    "    accuracy.append(nltk.classify.util.accuracy(classifier, testcurr))"
   ]
  },
  {
   "cell_type": "code",
   "execution_count": null,
   "metadata": {
    "collapsed": false
   },
   "outputs": [],
   "source": [
    "np.mean(accuracy)"
   ]
  },
  {
   "cell_type": "code",
   "execution_count": null,
   "metadata": {
    "collapsed": false
   },
   "outputs": [],
   "source": [
    "#sander_tweets = pd.read_csv('data/full-corpus.csv')\n",
    "%matplotlib inline\n",
    "#sander_tweets['Sentiment'].unique()\n",
    "training_tweets['rating.1'].value_counts()\n",
    "#sander_tweets['Sentiment'].hist()"
   ]
  },
  {
   "cell_type": "code",
   "execution_count": null,
   "metadata": {
    "collapsed": true
   },
   "outputs": [],
   "source": [
    "#import csv \n",
    "#import re\n",
    "\n",
    "#Read the tweets one by one and process it\n",
    "\n",
    "#inpTweets = csv.reader(open('data/full-corpus.csv', 'rb'), delimiter=',', quotechar='|')\n",
    "#inpTweets = csv.reader(open('data/AFINN-111.csv', 'rb'))\n",
    "#inpTweets = csv.reader(open('data/full-corpus.csv', 'rb'))\n",
    "#inpTweets = csv.reader(open('data/debate08_sentiment_tweets.csv','rb'))\n",
    "\n",
    "#inpTweets = csv.reader(open('data/train_tweets.csv','rU'),delimiter = ',',dialect='excel')\n",
    "#inpTweets = csv.reader(open('data/train_tweets.csv','rb'))\n",
    "\n",
    "#stopWords = getStopWordList('data/feature_list/stopwords.txt')\n",
    "\n",
    "#count = 0;\n",
    "#featureList = []\n",
    "#tweets = [] \n",
    "\n",
    "#for row in inpTweets:\n",
    "    \n",
    "#    try:\n",
    "#        sentiment = row[6]\n",
    "#        tweet = row[3]\n",
    "#        processedTweet = processTweet(tweet)\n",
    "#        featureVector = getFeatureVector(processedTweet, stopWords)\n",
    "#        featureList.extend(featureVector)\n",
    "#        tweets.append((featureVector, sentiment));\n",
    "#    except:\n",
    "#        count +=1\n",
    "        \n",
    "#end loop\n"
   ]
  },
  {
   "cell_type": "code",
   "execution_count": null,
   "metadata": {
    "collapsed": true
   },
   "outputs": [],
   "source": [
    "#tweets_v_test2 = []\n",
    "#tweets_test2 =[]\n",
    "\n",
    "#for row in test2.itertuples():\n",
    "#    tweet3 = row[3]\n",
    "#    processedTweet = processTweet(tweet3)\n",
    "#    sentiment = NBClassifier.classify(extract_features(getFeatureVector(processedTweet, stopWords)))\n",
    "#    tweets_v_test2.append((tweet3, sentiment))\n",
    "\n",
    "#for row in test2.itertuples():\n",
    "#    sentiment3 = row[6]\n",
    "#    tweet3 = row[3]\n",
    "#    tweets_test2.append((tweet3, sentiment3))"
   ]
  },
  {
   "cell_type": "code",
   "execution_count": null,
   "metadata": {
    "collapsed": true
   },
   "outputs": [],
   "source": [
    "#tweets_v_test2 = []\n",
    "#tweets_test2 =[]\n",
    "\n",
    "#for row in test2.itertuples():\n",
    "#    tweet3 = row[3]\n",
    "#    processedTweet = processTweet(tweet3)\n",
    "#    sentiment = NBClassifier.classify(extract_features(getFeatureVector(processedTweet, stopWords)))\n",
    "#    tweets_v_test2.append((tweet3, sentiment))\n",
    "\n",
    "#for row in test2.itertuples():\n",
    "#    sentiment3 = row[6]\n",
    "#    tweet3 = row[3]\n",
    "#    tweets_test2.append((tweet3, sentiment3))"
   ]
  },
  {
   "cell_type": "code",
   "execution_count": null,
   "metadata": {
    "collapsed": true
   },
   "outputs": [],
   "source": [
    "#accuracy = []\n",
    "#for traincv, testcv in cv:\n",
    "#    classifier = nltk.NaiveBayesClassifier.train(training_set[traincv[0]:traincv[len(traincv)-1]])\n",
    "#    print 'accuracy:', nltk.classify.util.accuracy(classifier, training_set[testcv[0]:testcv[len(testcv)-1]])\n",
    "#    accuracy.append(nltk.classify.util.accuracy(classifier, training_set[testcv[0]:testcv[len(testcv)-1]]))"
   ]
  },
  {
   "cell_type": "code",
   "execution_count": null,
   "metadata": {
    "collapsed": true
   },
   "outputs": [],
   "source": []
  }
 ],
 "metadata": {
  "kernelspec": {
   "display_name": "Python 2",
   "language": "python",
   "name": "python2"
  },
  "language_info": {
   "codemirror_mode": {
    "name": "ipython",
    "version": 2
   },
   "file_extension": ".py",
   "mimetype": "text/x-python",
   "name": "python",
   "nbconvert_exporter": "python",
   "pygments_lexer": "ipython2",
   "version": "2.7.11"
  }
 },
 "nbformat": 4,
 "nbformat_minor": 0
}
